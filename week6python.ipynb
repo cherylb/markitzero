{
 "metadata": {
  "name": "",
  "signature": "sha256:8dbcf9b963cdfa6fade5cb83a1da63d47ab8179ac246c54c3969a812ea70c07c"
 },
 "nbformat": 3,
 "nbformat_minor": 0,
 "worksheets": [
  {
   "cells": [
    {
     "cell_type": "code",
     "collapsed": false,
     "input": [
      "def showgroups (pattern,txt):\n",
      "    import re\n",
      "    import string\n",
      "    match = re.search(pattern,txt)\n",
      "    if match is None:\n",
      "        print(\"no match\")\n",
      "        return\n",
      "    for i in range(1, 1+len(match.groups())):\n",
      "        print(string.strip(match.group(i)))\n",
      "        \n",
      "# text to parse\n",
      "oneline = '1 Germany  | W 3 | T 4 | W 2'\n",
      "\n",
      "#patterns\n",
      "patrank ='([0-9]+)\\s*'\n",
      "patcountry = '([A-Z][a-z]*\\s?[A-Z]*[a-z]*)'\n",
      "patrnd = '\\|\\s+([A-Za-z]\\s?[0-9])\\s+\\|\\s?([A-Za-z]\\s?[0-9])\\s+\\|\\s?([A-Za-z]\\s?[0-9])'\n",
      "\n",
      "patrnds = '\\|\\s+([A-Za-z]\\s?[0-9])'\n",
      "\n",
      "print(\"Rank:\")\n",
      "showgroups(patrank,oneline)\n",
      "print(\"Country:\")\n",
      "showgroups(patcountry,oneline)\n",
      "#print(\"Results\")  #this works too\n",
      "#print(re.findall(patrnds,oneline))\n",
      "print(\"Results:\")\n",
      "showgroups(patrnd,oneline)\n"
     ],
     "language": "python",
     "metadata": {},
     "outputs": [
      {
       "output_type": "stream",
       "stream": "stdout",
       "text": [
        "Rank:\n",
        "1\n",
        "Country:\n",
        "Germany\n",
        "Results:\n",
        "W 3\n",
        "T 4\n",
        "W 2\n"
       ]
      }
     ],
     "prompt_number": 2
    },
    {
     "cell_type": "code",
     "collapsed": false,
     "input": [],
     "language": "python",
     "metadata": {},
     "outputs": []
    }
   ],
   "metadata": {}
  }
 ]
}