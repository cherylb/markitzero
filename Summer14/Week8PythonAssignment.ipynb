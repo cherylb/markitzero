{
 "metadata": {
  "name": "",
  "signature": "sha256:45a77bd1b40e962073d78c84565facb8ece7fe465457b09e34f743a510ac7ecb"
 },
 "nbformat": 3,
 "nbformat_minor": 0,
 "worksheets": [
  {
   "cells": [
    {
     "cell_type": "code",
     "collapsed": false,
     "input": [
      "from sqlite3 import dbapi2 as sqlite\n",
      "con = sqlite.connect(\"C:/SQLlight/toys.sqlite\")\n",
      "curser = con.cursor()\n",
      "\n",
      "#Select records from database\n",
      "curser.execute('''SELECT brand,toyname, irritation_score \n",
      "FROM brands JOIN toyinfo ON brands.id = toyinfo.brand_id''')\n",
      "\n",
      "# print out field names\n",
      "fldnames =[f[0] for f in curser.description]\n",
      "print fldnames\n",
      "#print out info\n",
      "for row in curser:\n",
      "    print row\n",
      "    \n"
     ],
     "language": "python",
     "metadata": {},
     "outputs": [
      {
       "output_type": "stream",
       "stream": "stdout",
       "text": [
        "['brand', 'toyname', 'irritation_score']\n",
        "(u'Nerf', u'football', 1)\n",
        "(u'Hasbro', u'Jenga Boom', 9)\n",
        "(u'Nerf', u'marshmello blaster', 19)\n",
        "(u'\\nFisher-Price', u'laughing puppy', 10)\n",
        "(u'\\nFisher-Price', u'1967 Barn Toy', 5)\n"
       ]
      }
     ],
     "prompt_number": 1
    },
    {
     "cell_type": "code",
     "collapsed": false,
     "input": [],
     "language": "python",
     "metadata": {},
     "outputs": []
    }
   ],
   "metadata": {}
  }
 ]
}