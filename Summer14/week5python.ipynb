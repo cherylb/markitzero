{
 "metadata": {
  "name": "",
  "signature": "sha256:868d1434143ed2089c2fc39fab115e99e99e26346777ab5448c49e0a2eac147a"
 },
 "nbformat": 3,
 "nbformat_minor": 0,
 "worksheets": [
  {
   "cells": [
    {
     "cell_type": "code",
     "collapsed": false,
     "input": [
      "%load 'week5assignment.py'"
     ],
     "language": "python",
     "metadata": {},
     "outputs": [],
     "prompt_number": 5
    },
    {
     "cell_type": "code",
     "collapsed": false,
     "input": [
      "\"\"\"\n",
      "Created on Thu Jul 03 19:30:42 2014\n",
      "\n",
      "@author: Cheryl\n",
      "\"\"\"\n",
      "\n",
      "def movielist():\n",
      "# open file\n",
      "    items = open ('C:\\Users\\Cheryl\\Documents\\Python Scripts\\u.item','r')\n",
      "    titles = set()\n",
      "    \n",
      "    #get what year to look for\n",
      "    inyear = raw_input('Year to search > ')\n",
      "    print(inyear)\n",
      "    \n",
      "    #check year is a number\n",
      "    try:\n",
      "        x = int(inyear)   \n",
      "    except:\n",
      "        print(\"Year was not entered as a number\")\n",
      "        return\n",
      "    \n",
      "    inyear2 = '('+ inyear + ')'\n",
      "    print ('movies in: '+ inyear)\n",
      "\n",
      "    for line in items:\n",
      "        movie = line.split('|')[1].strip()  #line to list, get 1th value\n",
      "        #print('movie is: ', movie )\n",
      "        startpos = movie.find(inyear2) #find year\n",
      "        #print ('year pos',startpos)\n",
      "        if startpos != -1:   # if it is found\n",
      "            title = movie[:-6].strip() #trim title to remove year\n",
      "            # print ('movie again:', title)\n",
      "            titles.add(title) #will add movie to set of titles\n",
      "            #print (titles)\n",
      "        else: continue\n",
      "    print(titles)\n",
      "\n",
      "movielist()\n",
      "                "
     ],
     "language": "python",
     "metadata": {},
     "outputs": [
      {
       "name": "stdout",
       "output_type": "stream",
       "stream": "stdout",
       "text": [
        "Year to search > 1959\n"
       ]
      },
      {
       "output_type": "stream",
       "stream": "stdout",
       "text": [
        "1959\n",
        "movies in: 1959\n",
        "set(['World of Apu, The (Apur Sansar)', 'Ben-Hur', 'Shaggy Dog, The', 'Some Like It Hot', 'North by Northwest'])\n"
       ]
      }
     ],
     "prompt_number": 6
    },
    {
     "cell_type": "code",
     "collapsed": false,
     "input": [],
     "language": "python",
     "metadata": {},
     "outputs": []
    }
   ],
   "metadata": {}
  }
 ]
}